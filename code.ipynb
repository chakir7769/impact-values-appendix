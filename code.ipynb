{
 "cells": [
  {
   "cell_type": "markdown",
   "metadata": {},
   "source": [
    "# Appendix: Testing the impact Values\n",
    "\n",
    "This Jupyter notebook contains supplementary material for the research paper titled \"Introduction to impact Values in Cooperative Game Theory: An innovative Shapley-Based Approach, with Marketing Case Study\". "
   ]
  },
  {
   "cell_type": "markdown",
   "metadata": {},
   "source": [
    "### Importing the needed libraries:\n",
    "\n",
    "- **\"pandas\"**: used for handling the dataset.\n",
    "- **\"numPy\", \"math\", \"itertools\"**: used to handle mathematical operations.\n",
    "- **\"seaborn\", \"matplotlib\"**: used to plot the impact Matrix.\n",
    "- **\"deap\"**: Used to set up the Genetic Algorithm needed for the optimisation task\n",
    "\n",
    "Make sure every module listed is installed on your machine before running the code."
   ]
  },
  {
   "cell_type": "code",
   "execution_count": 576,
   "metadata": {},
   "outputs": [],
   "source": [
    "import pandas as pd\n",
    "import seaborn as sns\n",
    "import numpy as np\n",
    "import random\n",
    "import matplotlib.pyplot as plt\n",
    "from math import factorial\n",
    "from itertools import combinations\n",
    "import more_itertools as mit\n",
    "from deap import base, creator, tools, algorithms"
   ]
  },
  {
   "cell_type": "markdown",
   "metadata": {},
   "source": [
    "### Dataset loading"
   ]
  },
  {
   "cell_type": "code",
   "execution_count": 577,
   "metadata": {},
   "outputs": [
    {
     "name": "stderr",
     "output_type": "stream",
     "text": [
      "/Users/chakir/Library/Python/3.9/lib/python/site-packages/openpyxl/styles/stylesheet.py:226: UserWarning: Workbook contains no default style, apply openpyxl's default\n",
      "  warn(\"Workbook contains no default style, apply openpyxl's default\")\n"
     ]
    },
    {
     "data": {
      "text/html": [
       "<div>\n",
       "<style scoped>\n",
       "    .dataframe tbody tr th:only-of-type {\n",
       "        vertical-align: middle;\n",
       "    }\n",
       "\n",
       "    .dataframe tbody tr th {\n",
       "        vertical-align: top;\n",
       "    }\n",
       "\n",
       "    .dataframe thead th {\n",
       "        text-align: right;\n",
       "    }\n",
       "</style>\n",
       "<table border=\"1\" class=\"dataframe\">\n",
       "  <thead>\n",
       "    <tr style=\"text-align: right;\">\n",
       "      <th></th>\n",
       "      <th>Consumer_ID</th>\n",
       "      <th>Existing_customer</th>\n",
       "      <th>Relation_length</th>\n",
       "      <th>CLV</th>\n",
       "      <th>Firm_banner</th>\n",
       "      <th>Email_group</th>\n",
       "      <th>Banner_no_click</th>\n",
       "      <th>Banner_click</th>\n",
       "      <th>SEA_product_click</th>\n",
       "      <th>SEA_brand_click</th>\n",
       "      <th>Price_comp_click</th>\n",
       "      <th>Email_no_click</th>\n",
       "      <th>Email_click</th>\n",
       "      <th>Direct_visit</th>\n",
       "      <th>Social_visit</th>\n",
       "      <th>First_channel</th>\n",
       "      <th>Last_channel</th>\n",
       "      <th>Amount_touchpoints</th>\n",
       "      <th>Flyer_region</th>\n",
       "      <th>Purchase</th>\n",
       "    </tr>\n",
       "  </thead>\n",
       "  <tbody>\n",
       "    <tr>\n",
       "      <th>0</th>\n",
       "      <td>1</td>\n",
       "      <td>0</td>\n",
       "      <td>0</td>\n",
       "      <td>0.000000</td>\n",
       "      <td>1</td>\n",
       "      <td>0</td>\n",
       "      <td>0</td>\n",
       "      <td>0</td>\n",
       "      <td>0</td>\n",
       "      <td>0</td>\n",
       "      <td>1</td>\n",
       "      <td>0</td>\n",
       "      <td>0</td>\n",
       "      <td>3</td>\n",
       "      <td>1</td>\n",
       "      <td>Social_visit</td>\n",
       "      <td>Direct_visit</td>\n",
       "      <td>6</td>\n",
       "      <td>1</td>\n",
       "      <td>0</td>\n",
       "    </tr>\n",
       "    <tr>\n",
       "      <th>1</th>\n",
       "      <td>2</td>\n",
       "      <td>1</td>\n",
       "      <td>16</td>\n",
       "      <td>565.235935</td>\n",
       "      <td>1</td>\n",
       "      <td>0</td>\n",
       "      <td>0</td>\n",
       "      <td>0</td>\n",
       "      <td>0</td>\n",
       "      <td>0</td>\n",
       "      <td>1</td>\n",
       "      <td>0</td>\n",
       "      <td>0</td>\n",
       "      <td>3</td>\n",
       "      <td>0</td>\n",
       "      <td>Price_comp_click</td>\n",
       "      <td>Direct_visit</td>\n",
       "      <td>5</td>\n",
       "      <td>1</td>\n",
       "      <td>1</td>\n",
       "    </tr>\n",
       "    <tr>\n",
       "      <th>2</th>\n",
       "      <td>3</td>\n",
       "      <td>1</td>\n",
       "      <td>9</td>\n",
       "      <td>2430.037780</td>\n",
       "      <td>0</td>\n",
       "      <td>1</td>\n",
       "      <td>1</td>\n",
       "      <td>0</td>\n",
       "      <td>0</td>\n",
       "      <td>0</td>\n",
       "      <td>0</td>\n",
       "      <td>0</td>\n",
       "      <td>0</td>\n",
       "      <td>3</td>\n",
       "      <td>1</td>\n",
       "      <td>Social_visit</td>\n",
       "      <td>Direct_visit</td>\n",
       "      <td>6</td>\n",
       "      <td>0</td>\n",
       "      <td>1</td>\n",
       "    </tr>\n",
       "    <tr>\n",
       "      <th>3</th>\n",
       "      <td>4</td>\n",
       "      <td>1</td>\n",
       "      <td>9</td>\n",
       "      <td>1423.361957</td>\n",
       "      <td>0</td>\n",
       "      <td>0</td>\n",
       "      <td>1</td>\n",
       "      <td>0</td>\n",
       "      <td>0</td>\n",
       "      <td>0</td>\n",
       "      <td>1</td>\n",
       "      <td>0</td>\n",
       "      <td>0</td>\n",
       "      <td>3</td>\n",
       "      <td>2</td>\n",
       "      <td>Direct_visit</td>\n",
       "      <td>Social_visit</td>\n",
       "      <td>7</td>\n",
       "      <td>0</td>\n",
       "      <td>0</td>\n",
       "    </tr>\n",
       "    <tr>\n",
       "      <th>4</th>\n",
       "      <td>5</td>\n",
       "      <td>1</td>\n",
       "      <td>35</td>\n",
       "      <td>2505.091038</td>\n",
       "      <td>1</td>\n",
       "      <td>1</td>\n",
       "      <td>2</td>\n",
       "      <td>1</td>\n",
       "      <td>0</td>\n",
       "      <td>0</td>\n",
       "      <td>0</td>\n",
       "      <td>0</td>\n",
       "      <td>0</td>\n",
       "      <td>3</td>\n",
       "      <td>3</td>\n",
       "      <td>Social_visit</td>\n",
       "      <td>Direct_visit</td>\n",
       "      <td>11</td>\n",
       "      <td>0</td>\n",
       "      <td>1</td>\n",
       "    </tr>\n",
       "  </tbody>\n",
       "</table>\n",
       "</div>"
      ],
      "text/plain": [
       "   Consumer_ID  Existing_customer  Relation_length          CLV  Firm_banner  \\\n",
       "0            1                  0                0     0.000000            1   \n",
       "1            2                  1               16   565.235935            1   \n",
       "2            3                  1                9  2430.037780            0   \n",
       "3            4                  1                9  1423.361957            0   \n",
       "4            5                  1               35  2505.091038            1   \n",
       "\n",
       "   Email_group  Banner_no_click  Banner_click  SEA_product_click  \\\n",
       "0            0                0             0                  0   \n",
       "1            0                0             0                  0   \n",
       "2            1                1             0                  0   \n",
       "3            0                1             0                  0   \n",
       "4            1                2             1                  0   \n",
       "\n",
       "   SEA_brand_click  Price_comp_click  Email_no_click  Email_click  \\\n",
       "0                0                 1               0            0   \n",
       "1                0                 1               0            0   \n",
       "2                0                 0               0            0   \n",
       "3                0                 1               0            0   \n",
       "4                0                 0               0            0   \n",
       "\n",
       "   Direct_visit  Social_visit     First_channel  Last_channel  \\\n",
       "0             3             1      Social_visit  Direct_visit   \n",
       "1             3             0  Price_comp_click  Direct_visit   \n",
       "2             3             1      Social_visit  Direct_visit   \n",
       "3             3             2      Direct_visit  Social_visit   \n",
       "4             3             3      Social_visit  Direct_visit   \n",
       "\n",
       "   Amount_touchpoints  Flyer_region  Purchase  \n",
       "0                   6             1         0  \n",
       "1                   5             1         1  \n",
       "2                   6             0         1  \n",
       "3                   7             0         0  \n",
       "4                  11             0         1  "
      ]
     },
     "execution_count": 577,
     "metadata": {},
     "output_type": "execute_result"
    }
   ],
   "source": [
    "# Load the dataset\n",
    "file_path = 'data.xlsx'\n",
    "data = pd.read_excel(file_path)\n",
    "\n",
    "data.head()"
   ]
  },
  {
   "cell_type": "markdown",
   "metadata": {},
   "source": [
    "### Selecting the useful columns for the study\n",
    "\n",
    "Next, the eleven columns useful for the study mentioned in the paper are selected from the dataset.\n",
    "\n",
    "Each cell is converted to a binary input explaining whether the consumer interacted with the channel or not.\n",
    "\n",
    "Then, the repeated paths in the dataset are aggregated by taking the sum of purchases.\n",
    "\n",
    "The output is a dataset with unique rows representing consumers' paths and the sum of purchases resulting from each path.\n",
    "\n",
    "This new dataset will be used to compute the Shapley and impact values as defined in the paper."
   ]
  },
  {
   "cell_type": "code",
   "execution_count": 578,
   "metadata": {},
   "outputs": [
    {
     "name": "stderr",
     "output_type": "stream",
     "text": [
      "/var/folders/9k/jzxy5b0j6zjcx9kq2ns60_f80000gn/T/ipykernel_3721/1373678451.py:13: FutureWarning: DataFrame.applymap has been deprecated. Use DataFrame.map instead.\n",
      "  selected_data = selected_data.applymap(lambda x: 1 if x > 0 else 0)\n"
     ]
    }
   ],
   "source": [
    "# Identifying the columns representing the marketing channels and the 'Purchase' column\n",
    "marketing_channels = [\n",
    "    \"Firm_banner\", \"Email_group\", \"Banner_no_click\", \"Banner_click\",\n",
    "    \"SEA_product_click\", \"SEA_brand_click\", \"Price_comp_click\", \"Email_no_click\",\n",
    "    \"Email_click\", \"Direct_visit\", \"Social_visit\"\n",
    "]\n",
    "purchase_column = \"Purchase\"\n",
    "\n",
    "# Selecting only the relevant columns\n",
    "selected_data = data[marketing_channels + [purchase_column]]\n",
    "\n",
    "# Converting all inputs in the cells to 0s and 1s (if an input is bigger than 1, change it to 1)\n",
    "selected_data = selected_data.applymap(lambda x: 1 if x > 0 else 0)\n",
    "\n",
    "# Group by the marketing channels and sum the purchases\n",
    "grouped_data = selected_data.groupby(marketing_channels).sum().reset_index()\n",
    "\n",
    "grouped_data.head()\n",
    "\n",
    "grouped_data.to_excel('paths.xlsx')\n"
   ]
  },
  {
   "cell_type": "markdown",
   "metadata": {},
   "source": [
    "### Occuurrences of channels in the dataset\n",
    "\n",
    "A checking of the occurrences of the previously mentioned channels is done to check the presence of each one in the dataset, lower values could affect the computation of Shapley and impact Values for a channel."
   ]
  },
  {
   "cell_type": "code",
   "execution_count": 579,
   "metadata": {},
   "outputs": [
    {
     "data": {
      "text/plain": [
       "Firm_banner          482\n",
       "Email_group          618\n",
       "Banner_no_click      475\n",
       "Banner_click         323\n",
       "SEA_product_click    397\n",
       "SEA_brand_click      440\n",
       "Price_comp_click     408\n",
       "Email_no_click       293\n",
       "Email_click          242\n",
       "Direct_visit         510\n",
       "Social_visit         484\n",
       "dtype: int64"
      ]
     },
     "execution_count": 579,
     "metadata": {},
     "output_type": "execute_result"
    }
   ],
   "source": [
    "# Compute the occurrence of each channel by counting non-zero values in each column\n",
    "channel_occurrences = (grouped_data.iloc[:, :-1] != 0).sum()\n",
    "\n",
    "channel_occurrences"
   ]
  },
  {
   "cell_type": "markdown",
   "metadata": {},
   "source": [
    "Next, we make a dictionary in which we store the coalitions as keys and the corresponding number of conversions as values."
   ]
  },
  {
   "cell_type": "code",
   "execution_count": 580,
   "metadata": {},
   "outputs": [],
   "source": [
    "# Dictionary to store the total conversions for each combination of channels\n",
    "coalitions_dict = {}\n",
    "\n",
    "for index, row in grouped_data.iterrows():\n",
    "    coalition = {channel for channel in marketing_channels if row[channel] == 1}\n",
    "    total_conversions = row['Purchase'] \n",
    "    coalitions_dict[frozenset(coalition)] = total_conversions"
   ]
  },
  {
   "cell_type": "markdown",
   "metadata": {},
   "source": [
    "### Imputation of missing values \n",
    "\n",
    "In order to have an accurate computation of Shapley and Impact values, we impute the missing coalitions into the dataset. The extension used is the following:\n",
    "$$\n",
    "\\nu = \\frac{\\underline{v}+\\overline{v}}{2} \\ \\ \\ \\text{where:} \\ \\ \\\n",
    "   \\begin{cases} \n",
    "      \\underline{v} = \\max\\limits_{\\substack{\\\\ T_i \\in \\mathcal{K}, \\ i = 1, 2, \\dots, s \\\\ \\bigcup_{i} T_i \\subseteq S, \\ T_i \\text{ are disjoint}}} \\sum_{i=1}^{s} v(T_i) \\\\\n",
    "      \\overline{v} = \\min\\limits_{\\substack{\\hat{S} \\in \\mathcal{K}, \\ \\hat{S} \\supseteq S}} (v(\\hat{S}) - \\underline{v}(\\hat{S}\\setminus S))\n",
    "   \\end{cases}\n",
    "$$"
   ]
  },
  {
   "cell_type": "markdown",
   "metadata": {},
   "source": [
    "First, we start by checking if all signletons coalitions and if the grand coalition are present, since they are essential for the imputation task."
   ]
  },
  {
   "cell_type": "code",
   "execution_count": 581,
   "metadata": {},
   "outputs": [
    {
     "name": "stdout",
     "output_type": "stream",
     "text": [
      "('Banner_no_click',) 0\n",
      "('Banner_click',) 0\n",
      "('SEA_product_click',) 1\n",
      "('SEA_brand_click',) 4\n",
      "('Price_comp_click',) 2\n",
      "('Direct_visit',) 15\n"
     ]
    }
   ],
   "source": [
    "liste = []\n",
    "for S in combinations(marketing_channels, 1):\n",
    "    if frozenset(S) in coalitions_dict:\n",
    "        liste.append(S)\n",
    "        print(S, coalitions_dict[frozenset(S)])"
   ]
  },
  {
   "cell_type": "markdown",
   "metadata": {},
   "source": [
    "As we can see, some singletons are missing, we proceed by giving the missing singletons a value of 0. "
   ]
  },
  {
   "cell_type": "code",
   "execution_count": 582,
   "metadata": {},
   "outputs": [],
   "source": [
    "for subset_tuple in combinations(marketing_channels, 1):\n",
    "    if frozenset(subset_tuple) not in coalitions_dict:\n",
    "        coalitions_dict[frozenset(subset_tuple)] = 0"
   ]
  },
  {
   "cell_type": "markdown",
   "metadata": {},
   "source": [
    "Since the grand coalition has a very small value we proceed by adding to it the maximal value in the dictionary."
   ]
  },
  {
   "cell_type": "code",
   "execution_count": 583,
   "metadata": {},
   "outputs": [
    {
     "name": "stdout",
     "output_type": "stream",
     "text": [
      "562\n"
     ]
    }
   ],
   "source": [
    "print(max(coalitions_dict.values()))"
   ]
  },
  {
   "cell_type": "code",
   "execution_count": 584,
   "metadata": {},
   "outputs": [
    {
     "name": "stdout",
     "output_type": "stream",
     "text": [
      "('Firm_banner', 'Email_group', 'Banner_no_click', 'Banner_click', 'SEA_product_click', 'SEA_brand_click', 'Price_comp_click', 'Email_no_click', 'Email_click', 'Direct_visit', 'Social_visit') 584\n"
     ]
    }
   ],
   "source": [
    "for S in combinations(marketing_channels, 11):\n",
    "    if frozenset(S) in coalitions_dict:\n",
    "        coalitions_dict[frozenset(S)] = max(coalitions_dict.values()) + coalitions_dict[frozenset(S)]\n",
    "        print(S, coalitions_dict[frozenset(S)])"
   ]
  },
  {
   "cell_type": "markdown",
   "metadata": {},
   "source": [
    "We proceed by imputing the missing values."
   ]
  },
  {
   "cell_type": "code",
   "execution_count": 585,
   "metadata": {},
   "outputs": [],
   "source": [
    "coalitions_dict_copy = coalitions_dict.copy()"
   ]
  },
  {
   "cell_type": "code",
   "execution_count": 586,
   "metadata": {},
   "outputs": [],
   "source": [
    "for S in range(len(marketing_channels)):\n",
    "    for subset_tuple in combinations(marketing_channels, S):\n",
    "        if frozenset(subset_tuple) not in coalitions_dict:\n",
    "            coalitions_dict[frozenset(subset_tuple)] = 0"
   ]
  },
  {
   "cell_type": "code",
   "execution_count": 587,
   "metadata": {},
   "outputs": [],
   "source": [
    "def compute_v_underline(S, v):\n",
    "    max_value = 0\n",
    "    for partition in mit.set_partitions(S):\n",
    "        if (frozenset(i) in v for i in partition):\n",
    "            value_sum = sum(v[frozenset(i)] for i in partition)\n",
    "            max_value = max(max_value, value_sum)\n",
    "    return max_value if max_value > 0 else 0\n",
    "\n",
    "def compute_v_overline(S, v):\n",
    "    subsets = [i for i in v.keys() if (len(i) > len(S) or i==S)]\n",
    "    min_value = float('inf')\n",
    "    for subset in subsets:\n",
    "        if set(S).issubset(set(subset)):\n",
    "            residual_set = frozenset(set(subset) - set(S))\n",
    "            value = v[subset] - compute_v_underline(residual_set, v)\n",
    "            min_value = min(min_value, value)\n",
    "    return min_value if min_value > 0 else 0\n",
    "\n",
    "def compute_nu(S, v):\n",
    "    return int((compute_v_underline(S, v) + compute_v_overline(S, v))/2)\n",
    "\n",
    "for i in range(1, len(marketing_channels)):\n",
    "    for S in combinations(marketing_channels, i):\n",
    "        if frozenset(S) not in coalitions_dict_copy:\n",
    "            coalitions_dict[frozenset(S)] = compute_nu(S, coalitions_dict)"
   ]
  },
  {
   "cell_type": "markdown",
   "metadata": {},
   "source": [
    "### Shapley Values"
   ]
  },
  {
   "cell_type": "markdown",
   "metadata": {},
   "source": [
    "Now, a function computing Shapley Values for each marketing channel is defined. The output is a dictionary containing each marketing channel and its corresponfing Shapley Value.\n",
    "\n",
    "The formula for the Shaply Values is the following:\n",
    "\n",
    "$\\phi_i(v) = \\sum_{S \\subseteq N \\setminus \\{i\\}} \\frac{|S|!(|N|-|S|-1)!}{|N|!} \\left(v(S \\cup \\{i\\}) - v(S)\\right)$\n",
    "\n",
    "In order to get meaningful values, considering the scarcity of the dataset, only the cases in which both sets $S \\cup \\{i\\}$ and $S$ are present in the dictionary are considered."
   ]
  },
  {
   "cell_type": "code",
   "execution_count": 588,
   "metadata": {},
   "outputs": [],
   "source": [
    "def get_shapley(coalitions_dict, channel_columns):\n",
    "    shapley_values_dict = {channel: 0 for channel in channel_columns}\n",
    "    n = len(channel_columns)\n",
    "\n",
    "    # Function to check if the coalition is in the coalitions dictionary\n",
    "    def is_coalition_present(coalition):\n",
    "        return frozenset(coalition) in coalitions_dict\n",
    "\n",
    "    # Function to get the total conversions for a given coalition\n",
    "    def get_total_conversions(coalition):\n",
    "        return coalitions_dict[frozenset(coalition)]\n",
    "\n",
    "    # Iterattion over each channel\n",
    "    for channel in channel_columns:\n",
    "        checked = []\n",
    "        for S in range(1, n):\n",
    "            for subset_tuple in combinations(channel_columns, S):\n",
    "                subset = set(subset_tuple) \n",
    "                if frozenset(subset) not in checked:\n",
    "                    if channel not in subset:\n",
    "                        checked.append(frozenset(subset))\n",
    "                        subset_with_channel = subset | {channel}  \n",
    "                        if is_coalition_present(frozenset(subset)) and is_coalition_present(frozenset(subset_with_channel)):\n",
    "                            subset_value = get_total_conversions(frozenset(subset))\n",
    "                            subset_with_channel_value = get_total_conversions(frozenset(subset_with_channel))\n",
    "                            weight = (factorial(S) * factorial(n - S - 1)) / factorial(n)\n",
    "                            marginal_contribution = subset_with_channel_value - subset_value\n",
    "                            shapley_values_dict[channel] += marginal_contribution * weight\n",
    "\n",
    "    return shapley_values_dict\n"
   ]
  },
  {
   "cell_type": "markdown",
   "metadata": {},
   "source": [
    "Now, Shapley Values are computed for each marketing channel."
   ]
  },
  {
   "cell_type": "code",
   "execution_count": 589,
   "metadata": {},
   "outputs": [
    {
     "data": {
      "text/plain": [
       "{'Firm_banner': 86.93841991341995,\n",
       " 'Email_group': -28.353643578643585,\n",
       " 'Banner_no_click': 11.102308802308812,\n",
       " 'Banner_click': 55.80349927849928,\n",
       " 'SEA_product_click': 60.424891774891776,\n",
       " 'SEA_brand_click': 64.5974025974026,\n",
       " 'Price_comp_click': 63.65660173160173,\n",
       " 'Email_no_click': 61.57175324675325,\n",
       " 'Email_click': 64.44397546897547,\n",
       " 'Direct_visit': 60.27438672438673,\n",
       " 'Social_visit': 81.54040404040403}"
      ]
     },
     "execution_count": 589,
     "metadata": {},
     "output_type": "execute_result"
    }
   ],
   "source": [
    "shapley_values = get_shapley(coalitions_dict, marketing_channels)\n",
    "shapley_values"
   ]
  },
  {
   "cell_type": "markdown",
   "metadata": {},
   "source": [
    "### Impact Values\n",
    "\n",
    "Using a similar approach, a function computing Impact Values for each pair of channels is defined. The output is a dictionary containing each pair of marketing channels and its corresponfing Impact Value.\n",
    "\n",
    "The formula introduced for the Impact Values is the following:\n",
    "\n",
    "$\\phi_{ij}(v) = \\sum_{S \\subseteq N \\setminus \\{i,j\\}} \\frac{|S|!(|N|-|S|-2)!}{|N-1|!} \\left(v(S \\cup \\{i,j\\}) - v(S \\cup \\{i\\})\\right)$\n",
    "\n",
    "Similarly, in order to get meaningful values, considering the scarcity of the dataset, only the cases in which both sets $S \\cup \\{i,j\\}$ and $S \\cup \\{i\\}$ are present in the dictionary are considered."
   ]
  },
  {
   "cell_type": "code",
   "execution_count": 590,
   "metadata": {},
   "outputs": [],
   "source": [
    "def get_impact_values(coalitions_dict, channel_columns):\n",
    "    impact_values_dict = {(i, j): 0 for i in channel_columns for j in channel_columns if i != j}\n",
    "    n = len(channel_columns)\n",
    "\n",
    "    # Function to check if the coalition is in the coalitions_dict\n",
    "    def is_coalition_present(coalition):\n",
    "        return frozenset(coalition) in coalitions_dict\n",
    "\n",
    "    # Function to get the total conversions for a given coalition\n",
    "    def get_total_conversions(coalition):\n",
    "        return coalitions_dict.get(frozenset(coalition), 0)\n",
    "\n",
    "    for i in channel_columns:\n",
    "        for j in channel_columns:\n",
    "            if i != j:\n",
    "                checked = []\n",
    "                for S in range(1, n):\n",
    "                    for subset_tuple in combinations(channel_columns, S):\n",
    "                        subset = set(subset_tuple) \n",
    "                        if frozenset(subset) not in checked:\n",
    "                            checked.append(frozenset(subset))\n",
    "                            if not(i in subset or j in subset):\n",
    "                                subset_with_i = subset | {i}\n",
    "                                subset_with_i_j = subset | {i, j}\n",
    "                                if is_coalition_present(subset_with_i) and is_coalition_present(subset_with_i_j):\n",
    "                                    subset_with_i_value = get_total_conversions(subset_with_i)\n",
    "                                    subset_with_i_j_value = get_total_conversions(subset_with_i_j)\n",
    "                                    weight = factorial(S) * factorial(n - S - 2) / factorial(n - 1)\n",
    "                                    marginal_contribution = subset_with_i_j_value - subset_with_i_value\n",
    "                                    impact_values_dict[(i, j)] += marginal_contribution * weight\n",
    "            \n",
    "\n",
    "    return impact_values_dict\n"
   ]
  },
  {
   "cell_type": "markdown",
   "metadata": {},
   "source": [
    "Now, Impact Values are computed for each pair of marketing channel."
   ]
  },
  {
   "cell_type": "code",
   "execution_count": 591,
   "metadata": {},
   "outputs": [],
   "source": [
    "impact_values = get_impact_values(coalitions_dict, marketing_channels)"
   ]
  },
  {
   "cell_type": "markdown",
   "metadata": {},
   "source": [
    "### Impact Matrix\n",
    "\n",
    "A function constructing the Impact Matrix is defined using the Shapley (in the diagonal) and Impact Values (off-diagonal values of the matrix) computed in the previous step.\n",
    "\n",
    "The Impact Matrix is defined as follows:\n",
    "\n",
    "$$\n",
    "M(v) = \n",
    "\\begin{bmatrix}\n",
    "    \\phi_1(v) & \\phi_{1,2}(v) & \\cdots & \\phi_{1,n}(v) \\\\\n",
    "    \\phi_{2,1}(v) & \\phi_2(v) & \\cdots & \\phi_{2,n}(v) \\\\\n",
    "    \\vdots & \\vdots & \\ddots & \\vdots \\\\\n",
    "    \\phi_{n,1}(v) & \\phi_{n,2}(v) & \\cdots & \\phi_n(v)\n",
    "\\end{bmatrix}\n",
    "$$"
   ]
  },
  {
   "cell_type": "code",
   "execution_count": 592,
   "metadata": {},
   "outputs": [],
   "source": [
    "def get_impact_matrix(shapley_values, impact_values, channel_columns):\n",
    "    n = len(channel_columns)\n",
    "    impact_matrix = np.zeros((n, n))\n",
    "    for i, channel in enumerate(channel_columns):\n",
    "        impact_matrix[i, i] = shapley_values[channel]\n",
    "    for i, channel_i in enumerate(channel_columns):\n",
    "        for j, channel_j in enumerate(channel_columns):\n",
    "            if i != j:\n",
    "                impact_matrix[i, j] = impact_values[channel_i, channel_j]\n",
    "\n",
    "    return impact_matrix"
   ]
  },
  {
   "cell_type": "markdown",
   "metadata": {},
   "source": [
    "Now, we compute the Impact Matrix."
   ]
  },
  {
   "cell_type": "code",
   "execution_count": 593,
   "metadata": {},
   "outputs": [],
   "source": [
    "impact_matrix = get_impact_matrix(shapley_values, impact_values, marketing_channels)"
   ]
  },
  {
   "cell_type": "markdown",
   "metadata": {},
   "source": [
    "A heatmap representing the Impact Matrix is plotted."
   ]
  },
  {
   "cell_type": "code",
   "execution_count": 594,
   "metadata": {},
   "outputs": [
    {
     "data": {
      "image/png": "[encoded data removed]",
      "text/plain": [
       "<Figure size 1000x800 with 2 Axes>"
      ]
     },
     "metadata": {},
     "output_type": "display_data"
    }
   ],
   "source": [
    "channels = set()\n",
    "for pair in impact_values.keys():\n",
    "    channels.update(pair)\n",
    "channels = sorted(list(channels))\n",
    "\n",
    "impact_matrix_df = pd.DataFrame(index=channels, columns=channels, data=0.0)\n",
    "for (channel1, channel2), value in impact_values.items():\n",
    "    impact_matrix_df.at[channel1, channel2] = value\n",
    "\n",
    "for channel, value in shapley_values.items():\n",
    "    impact_matrix_df.at[channel, channel] = value\n",
    "\n",
    "plt.figure(figsize=(10, 8))\n",
    "ax = sns.heatmap(impact_matrix_df.T, cmap='viridis', annot=False)\n",
    "\n",
    "# Annotate non-diagonal elements\n",
    "for i in range(impact_matrix_df.shape[0]):\n",
    "    for j in range(impact_matrix_df.shape[1]):\n",
    "        if i != j:\n",
    "            text = ax.text(j + 0.5, i + 0.5, round(impact_matrix_df.iloc[j, i], 2),\n",
    "                           ha=\"center\", va=\"center\", color=\"w\")\n",
    "\n",
    "# Annotate diagonal elements in red\n",
    "for i in range(impact_matrix_df.shape[0]):\n",
    "    text = ax.text(i + 0.5, i + 0.5, round(impact_matrix_df.iloc[i, i], 2),\n",
    "                   ha=\"center\", va=\"center\", color=\"red\")\n",
    "    \n",
    "ax.set_xlabel('j')\n",
    "ax.set_ylabel('i')\n",
    "\n",
    "plt.savefig(\"plot.png\")\n",
    "\n",
    "plt.title(\"Impact Matrix\")\n",
    "plt.show()"
   ]
  },
  {
   "cell_type": "markdown",
   "metadata": {},
   "source": [
    "### Optimisation Task\n",
    "\n",
    "In this section, we set the budget constraint and the cost of each channel, then we set up the Genetic Algorithm with the specifications mentioned in the paper."
   ]
  },
  {
   "cell_type": "code",
   "execution_count": 595,
   "metadata": {},
   "outputs": [],
   "source": [
    "# Define the channel costs and budget\n",
    "channel_costs = {\n",
    "    'Firm_banner': 146, \n",
    "    'Email_group': 94, \n",
    "    'Banner_no_click': 100,\n",
    "    'Banner_click': 98, \n",
    "    'SEA_product_click': 82, \n",
    "    'SEA_brand_click': 100, \n",
    "    'Price_comp_click': 61, \n",
    "    'Email_no_click': 104, \n",
    "    'Email_click': 90, \n",
    "    'Direct_visit': 72, \n",
    "    'Social_visit': 135\n",
    "}\n",
    "\n",
    "budget = 500"
   ]
  },
  {
   "cell_type": "markdown",
   "metadata": {},
   "source": [
    "In the next section, the Genetic Algorithm using only Shapley Values is set up, and the optimal coalition of marketing channels is predicted."
   ]
  },
  {
   "cell_type": "code",
   "execution_count": 596,
   "metadata": {},
   "outputs": [
    {
     "name": "stdout",
     "output_type": "stream",
     "text": [
      "Best Subset of Channels: ['Firm_banner', 'SEA_product_click', 'SEA_brand_click', 'Price_comp_click', 'Email_click']\n",
      "Best Value: 340.0612914862915\n"
     ]
    },
    {
     "name": "stderr",
     "output_type": "stream",
     "text": [
      "/Users/chakir/Library/Python/3.9/lib/python/site-packages/deap/creator.py:185: RuntimeWarning: A class named 'FitnessMax' has already been created and it will be overwritten. Consider deleting previous creation of that class or rename it.\n",
      "  warnings.warn(\"A class named '{0}' has already been created and it \"\n",
      "/Users/chakir/Library/Python/3.9/lib/python/site-packages/deap/creator.py:185: RuntimeWarning: A class named 'Individual' has already been created and it will be overwritten. Consider deleting previous creation of that class or rename it.\n",
      "  warnings.warn(\"A class named '{0}' has already been created and it \"\n"
     ]
    }
   ],
   "source": [
    "random.seed(123)\n",
    "\n",
    "# Setup for Genetic Algorithm\n",
    "creator.create(\"FitnessMax\", base.Fitness, weights=(1.0,))\n",
    "creator.create(\"Individual\", list, fitness=creator.FitnessMax)\n",
    "\n",
    "toolbox = base.Toolbox()\n",
    "toolbox.register(\"attr_bool\", random.randint, 0, 1)\n",
    "toolbox.register(\"individual\", tools.initRepeat, creator.Individual, toolbox.attr_bool, n=len(marketing_channels))\n",
    "toolbox.register(\"population\", tools.initRepeat, list, toolbox.individual)\n",
    "\n",
    "# Fitness function\n",
    "def eval(individual):\n",
    "    # Sum of Shapley Values for each channel in the individual\n",
    "    total_value = sum(impact_matrix[i, i] * individual[i] for i in range(len(marketing_channels)))\n",
    "    \n",
    "    # Calculate total cost\n",
    "    total_cost = sum(channel_costs[marketing_channels[i]] * individual[i] for i in range(len(marketing_channels)))\n",
    "\n",
    "    # Check if the total cost is within the budget\n",
    "    if total_cost > budget:\n",
    "        return -1,\n",
    "\n",
    "    return total_value,\n",
    "\n",
    "# Genetic operators\n",
    "toolbox.register(\"evaluate\", eval)\n",
    "toolbox.register(\"mate\", tools.cxTwoPoint)\n",
    "toolbox.register(\"mutate\", tools.mutFlipBit, indpb=0.05)\n",
    "toolbox.register(\"select\", tools.selTournament, tournsize=3)\n",
    "\n",
    "# Creating the population\n",
    "population = toolbox.population(n=100)\n",
    "\n",
    "# Running the genetic algorithm\n",
    "ngen = 100\n",
    "result = algorithms.eaSimple(population, toolbox, cxpb=0.7, mutpb=0.2, ngen=ngen, verbose=False)\n",
    "\n",
    "# Extracting the best solution\n",
    "best_ind = tools.selBest(population, k=1)[0]\n",
    "best_channels = [marketing_channels[i] for i in range(len(best_ind)) if best_ind[i] == 1]\n",
    "best_value = eval(best_ind)[0]\n",
    "\n",
    "print(\"Best Subset of Channels:\", best_channels)\n",
    "print(\"Best Value:\", best_value)"
   ]
  },
  {
   "cell_type": "markdown",
   "metadata": {},
   "source": [
    "Next, the Genetic Algorithm using both Shapley and Impact Values is set up, and the optimal coalition of marketing channels is predicted."
   ]
  },
  {
   "cell_type": "code",
   "execution_count": 597,
   "metadata": {},
   "outputs": [
    {
     "name": "stdout",
     "output_type": "stream",
     "text": [
      "Best Subset of Channels: ['Firm_banner', 'SEA_product_click', 'Price_comp_click', 'Direct_visit', 'Social_visit']\n",
      "Best Value: 511.3590692640694\n"
     ]
    }
   ],
   "source": [
    "random.seed(123)\n",
    "\n",
    "# Setup for Genetic Algorithm\n",
    "creator.create(\"FitnessMax\", base.Fitness, weights=(1.0,))\n",
    "creator.create(\"Individual\", list, fitness=creator.FitnessMax)\n",
    "\n",
    "toolbox = base.Toolbox()\n",
    "toolbox.register(\"attr_bool\", random.randint, 0, 1)\n",
    "toolbox.register(\"individual\", tools.initRepeat, creator.Individual, toolbox.attr_bool, n=len(marketing_channels))\n",
    "toolbox.register(\"population\", tools.initRepeat, list, toolbox.individual)\n",
    "\n",
    "# Fitness function\n",
    "def eval(individual):\n",
    "    # Sum of Shapley Values for each channel in the individual\n",
    "    diagonal_sum = sum(impact_matrix[i, i] * individual[i] for i in range(len(marketing_channels)))\n",
    "\n",
    "    # Sum of impact Values for all pairs of channels in the individual\n",
    "    impact_sum = sum(impact_matrix[j, i] / 10 * individual[i] * individual[j] for i in range(len(marketing_channels)) for j in range(len(marketing_channels)) if i != j)\n",
    "\n",
    "    # Total value is the sum of diagonal values and impact values\n",
    "    total_value = diagonal_sum + impact_sum\n",
    "\n",
    "    # Calculate total cost\n",
    "    total_cost = sum(channel_costs[marketing_channels[i]] * individual[i] for i in range(len(marketing_channels)))\n",
    "\n",
    "    # Check if the total cost is within the budget\n",
    "    if total_cost > budget:\n",
    "        return -1,  # Penalty for exceeding budget\n",
    "\n",
    "    return total_value,\n",
    "\n",
    "\n",
    "# Genetic operators\n",
    "toolbox.register(\"evaluate\", eval)\n",
    "toolbox.register(\"mate\", tools.cxTwoPoint)\n",
    "toolbox.register(\"mutate\", tools.mutFlipBit, indpb=0.05)\n",
    "toolbox.register(\"select\", tools.selTournament, tournsize=3)\n",
    "\n",
    "# Creating the population\n",
    "population = toolbox.population(n=100)\n",
    "\n",
    "# Running the genetic algorithm\n",
    "ngen = 100\n",
    "result = algorithms.eaSimple(population, toolbox, cxpb=0.7, mutpb=0.2, ngen=ngen, verbose=False)\n",
    "\n",
    "# Extracting the best solution\n",
    "best_ind = tools.selBest(population, k=1)[0]\n",
    "best_channels = [marketing_channels[i] for i in range(len(best_ind)) if best_ind[i] == 1]\n",
    "best_value = eval(best_ind)[0]\n",
    "\n",
    "print(\"Best Subset of Channels:\", best_channels)\n",
    "print(\"Best Value:\", best_value)\n"
   ]
  },
  {
   "cell_type": "markdown",
   "metadata": {},
   "source": [
    "Last, a function calculating the total number of conversions for a specific coalition of channels is created. This function is used to get the number of conversions from each of the two outputs for comparative purposes."
   ]
  },
  {
   "cell_type": "code",
   "execution_count": 598,
   "metadata": {},
   "outputs": [],
   "source": [
    "def conversions(df, coalition):\n",
    "    checked = []\n",
    "    purchases = 0\n",
    "    for S in range(1, len(coalition)):\n",
    "        for subset in combinations(coalition, S):\n",
    "            subset = frozenset(subset)\n",
    "            if subset not in checked:\n",
    "                checked.append(subset)\n",
    "                if subset in df:\n",
    "                    purchases += df[subset]\n",
    "    return purchases"
   ]
  },
  {
   "cell_type": "markdown",
   "metadata": {},
   "source": [
    "Number of conversions for the optimal coalition obtained using only the Shapley Values:"
   ]
  },
  {
   "cell_type": "code",
   "execution_count": 599,
   "metadata": {},
   "outputs": [
    {
     "data": {
      "text/plain": [
       "129"
      ]
     },
     "execution_count": 599,
     "metadata": {},
     "output_type": "execute_result"
    }
   ],
   "source": [
    "conversions(coalitions_dict, ['Firm_banner', 'SEA_product_click', 'SEA_brand_click', 'Price_comp_click', 'Email_click'])"
   ]
  },
  {
   "cell_type": "markdown",
   "metadata": {},
   "source": [
    "Number of conversions for the optimal coalition obtained using both the Shapley and Impact Values:"
   ]
  },
  {
   "cell_type": "code",
   "execution_count": 600,
   "metadata": {},
   "outputs": [
    {
     "data": {
      "text/plain": [
       "773"
      ]
     },
     "execution_count": 600,
     "metadata": {},
     "output_type": "execute_result"
    }
   ],
   "source": [
    "conversions(coalitions_dict, ['Firm_banner', 'SEA_product_click', 'Price_comp_click', 'Direct_visit', 'Social_visit'])"
   ]
  }
 ],
 "metadata": {
  "kernelspec": {
   "display_name": "Python 3",
   "language": "python",
   "name": "python3"
  },
  "language_info": {
   "codemirror_mode": {
    "name": "ipython",
    "version": 3
   },
   "file_extension": ".py",
   "mimetype": "text/x-python",
   "name": "python",
   "nbconvert_exporter": "python",
   "pygments_lexer": "ipython3",
   "version": "3.9.6"
  }
 },
 "nbformat": 4,
 "nbformat_minor": 2
}
