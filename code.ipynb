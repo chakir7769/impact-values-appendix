{
 "cells": [
  {
   "cell_type": "markdown",
   "metadata": {},
   "source": [
    "# Appendix: Testing the Interaction Values\n",
    "\n",
    "This Jupyter notebook contains supplementary material for the research paper titled \"Introduction to Interaction Values in Cooperative Game Theory: An innovative Shapley-Based Approach, with Marketing Case Study\". "
   ]
  },
  {
   "cell_type": "markdown",
   "metadata": {},
   "source": [
    "### Importing the needed libraries:\n",
    "\n",
    "- **\"pandas\"**: used for handling the dataset.\n",
    "- **\"numPy\", \"math\", \"itertools\"**: used to handle mathematical operations.\n",
    "- **\"seaborn\", \"matplotlib\"**: used to plot the Interaction Matrix.\n",
    "- **\"deap\"**: Used to set up the Genetic Algorithm needed for the optimisation task\n",
    "\n",
    "Make sure every module listed is installed on your machine before running the code."
   ]
  },
  {
   "cell_type": "code",
   "execution_count": 1,
   "metadata": {},
   "outputs": [],
   "source": [
    "import pandas as pd\n",
    "import seaborn as sns\n",
    "import numpy as np\n",
    "import random\n",
    "import matplotlib.pyplot as plt\n",
    "from math import factorial\n",
    "from itertools import combinations\n",
    "from deap import base, creator, tools, algorithms"
   ]
  },
  {
   "cell_type": "markdown",
   "metadata": {},
   "source": [
    "### Dataset loading"
   ]
  },
  {
   "cell_type": "code",
   "execution_count": 5,
   "metadata": {},
   "outputs": [
    {
     "name": "stderr",
     "output_type": "stream",
     "text": [
      "/Users/chakir/Library/Python/3.9/lib/python/site-packages/openpyxl/styles/stylesheet.py:226: UserWarning: Workbook contains no default style, apply openpyxl's default\n",
      "  warn(\"Workbook contains no default style, apply openpyxl's default\")\n"
     ]
    },
    {
     "data": {
      "text/html": [
       "<div>\n",
       "<style scoped>\n",
       "    .dataframe tbody tr th:only-of-type {\n",
       "        vertical-align: middle;\n",
       "    }\n",
       "\n",
       "    .dataframe tbody tr th {\n",
       "        vertical-align: top;\n",
       "    }\n",
       "\n",
       "    .dataframe thead th {\n",
       "        text-align: right;\n",
       "    }\n",
       "</style>\n",
       "<table border=\"1\" class=\"dataframe\">\n",
       "  <thead>\n",
       "    <tr style=\"text-align: right;\">\n",
       "      <th></th>\n",
       "      <th>Consumer_ID</th>\n",
       "      <th>Existing_customer</th>\n",
       "      <th>Relation_length</th>\n",
       "      <th>CLV</th>\n",
       "      <th>Firm_banner</th>\n",
       "      <th>Email_group</th>\n",
       "      <th>Banner_no_click</th>\n",
       "      <th>Banner_click</th>\n",
       "      <th>SEA_product_click</th>\n",
       "      <th>SEA_brand_click</th>\n",
       "      <th>Price_comp_click</th>\n",
       "      <th>Email_no_click</th>\n",
       "      <th>Email_click</th>\n",
       "      <th>Direct_visit</th>\n",
       "      <th>Social_visit</th>\n",
       "      <th>First_channel</th>\n",
       "      <th>Last_channel</th>\n",
       "      <th>Amount_touchpoints</th>\n",
       "      <th>Flyer_region</th>\n",
       "      <th>Purchase</th>\n",
       "    </tr>\n",
       "  </thead>\n",
       "  <tbody>\n",
       "    <tr>\n",
       "      <th>0</th>\n",
       "      <td>1</td>\n",
       "      <td>0</td>\n",
       "      <td>0</td>\n",
       "      <td>0.000000</td>\n",
       "      <td>1</td>\n",
       "      <td>0</td>\n",
       "      <td>0</td>\n",
       "      <td>0</td>\n",
       "      <td>0</td>\n",
       "      <td>0</td>\n",
       "      <td>1</td>\n",
       "      <td>0</td>\n",
       "      <td>0</td>\n",
       "      <td>3</td>\n",
       "      <td>1</td>\n",
       "      <td>Social_visit</td>\n",
       "      <td>Direct_visit</td>\n",
       "      <td>6</td>\n",
       "      <td>1</td>\n",
       "      <td>0</td>\n",
       "    </tr>\n",
       "    <tr>\n",
       "      <th>1</th>\n",
       "      <td>2</td>\n",
       "      <td>1</td>\n",
       "      <td>16</td>\n",
       "      <td>565.235935</td>\n",
       "      <td>1</td>\n",
       "      <td>0</td>\n",
       "      <td>0</td>\n",
       "      <td>0</td>\n",
       "      <td>0</td>\n",
       "      <td>0</td>\n",
       "      <td>1</td>\n",
       "      <td>0</td>\n",
       "      <td>0</td>\n",
       "      <td>3</td>\n",
       "      <td>0</td>\n",
       "      <td>Price_comp_click</td>\n",
       "      <td>Direct_visit</td>\n",
       "      <td>5</td>\n",
       "      <td>1</td>\n",
       "      <td>1</td>\n",
       "    </tr>\n",
       "    <tr>\n",
       "      <th>2</th>\n",
       "      <td>3</td>\n",
       "      <td>1</td>\n",
       "      <td>9</td>\n",
       "      <td>2430.037780</td>\n",
       "      <td>0</td>\n",
       "      <td>1</td>\n",
       "      <td>1</td>\n",
       "      <td>0</td>\n",
       "      <td>0</td>\n",
       "      <td>0</td>\n",
       "      <td>0</td>\n",
       "      <td>0</td>\n",
       "      <td>0</td>\n",
       "      <td>3</td>\n",
       "      <td>1</td>\n",
       "      <td>Social_visit</td>\n",
       "      <td>Direct_visit</td>\n",
       "      <td>6</td>\n",
       "      <td>0</td>\n",
       "      <td>1</td>\n",
       "    </tr>\n",
       "    <tr>\n",
       "      <th>3</th>\n",
       "      <td>4</td>\n",
       "      <td>1</td>\n",
       "      <td>9</td>\n",
       "      <td>1423.361957</td>\n",
       "      <td>0</td>\n",
       "      <td>0</td>\n",
       "      <td>1</td>\n",
       "      <td>0</td>\n",
       "      <td>0</td>\n",
       "      <td>0</td>\n",
       "      <td>1</td>\n",
       "      <td>0</td>\n",
       "      <td>0</td>\n",
       "      <td>3</td>\n",
       "      <td>2</td>\n",
       "      <td>Direct_visit</td>\n",
       "      <td>Social_visit</td>\n",
       "      <td>7</td>\n",
       "      <td>0</td>\n",
       "      <td>0</td>\n",
       "    </tr>\n",
       "    <tr>\n",
       "      <th>4</th>\n",
       "      <td>5</td>\n",
       "      <td>1</td>\n",
       "      <td>35</td>\n",
       "      <td>2505.091038</td>\n",
       "      <td>1</td>\n",
       "      <td>1</td>\n",
       "      <td>2</td>\n",
       "      <td>1</td>\n",
       "      <td>0</td>\n",
       "      <td>0</td>\n",
       "      <td>0</td>\n",
       "      <td>0</td>\n",
       "      <td>0</td>\n",
       "      <td>3</td>\n",
       "      <td>3</td>\n",
       "      <td>Social_visit</td>\n",
       "      <td>Direct_visit</td>\n",
       "      <td>11</td>\n",
       "      <td>0</td>\n",
       "      <td>1</td>\n",
       "    </tr>\n",
       "  </tbody>\n",
       "</table>\n",
       "</div>"
      ],
      "text/plain": [
       "   Consumer_ID  Existing_customer  Relation_length          CLV  Firm_banner  \\\n",
       "0            1                  0                0     0.000000            1   \n",
       "1            2                  1               16   565.235935            1   \n",
       "2            3                  1                9  2430.037780            0   \n",
       "3            4                  1                9  1423.361957            0   \n",
       "4            5                  1               35  2505.091038            1   \n",
       "\n",
       "   Email_group  Banner_no_click  Banner_click  SEA_product_click  \\\n",
       "0            0                0             0                  0   \n",
       "1            0                0             0                  0   \n",
       "2            1                1             0                  0   \n",
       "3            0                1             0                  0   \n",
       "4            1                2             1                  0   \n",
       "\n",
       "   SEA_brand_click  Price_comp_click  Email_no_click  Email_click  \\\n",
       "0                0                 1               0            0   \n",
       "1                0                 1               0            0   \n",
       "2                0                 0               0            0   \n",
       "3                0                 1               0            0   \n",
       "4                0                 0               0            0   \n",
       "\n",
       "   Direct_visit  Social_visit     First_channel  Last_channel  \\\n",
       "0             3             1      Social_visit  Direct_visit   \n",
       "1             3             0  Price_comp_click  Direct_visit   \n",
       "2             3             1      Social_visit  Direct_visit   \n",
       "3             3             2      Direct_visit  Social_visit   \n",
       "4             3             3      Social_visit  Direct_visit   \n",
       "\n",
       "   Amount_touchpoints  Flyer_region  Purchase  \n",
       "0                   6             1         0  \n",
       "1                   5             1         1  \n",
       "2                   6             0         1  \n",
       "3                   7             0         0  \n",
       "4                  11             0         1  "
      ]
     },
     "execution_count": 5,
     "metadata": {},
     "output_type": "execute_result"
    }
   ],
   "source": [
    "# Load the dataset\n",
    "file_path = 'data.xlsx'\n",
    "data = pd.read_excel(file_path)\n",
    "\n",
    "data.head()"
   ]
  },
  {
   "cell_type": "markdown",
   "metadata": {},
   "source": [
    "### Selecting the useful columns for the study\n",
    "\n",
    "Next, the eleven columns useful for the study mentioned in the paper are selected from the dataset.\n",
    "\n",
    "Each cell is converted to a binary input explaining whether the consumer interacted with the channel or not.\n",
    "\n",
    "Then, the repeated paths in the dataset are aggregated by taking the sum of purchases.\n",
    "\n",
    "The output is a dataset with unique rows representing consumers' paths and the sum of purchases resulting from each path.\n",
    "\n",
    "This new dataset will be used to compute the Shapley and Interaction values as defined in the paper."
   ]
  },
  {
   "cell_type": "code",
   "execution_count": 6,
   "metadata": {},
   "outputs": [
    {
     "name": "stderr",
     "output_type": "stream",
     "text": [
      "/var/folders/9k/jzxy5b0j6zjcx9kq2ns60_f80000gn/T/ipykernel_18938/4113750348.py:13: FutureWarning: DataFrame.applymap has been deprecated. Use DataFrame.map instead.\n",
      "  selected_data = selected_data.applymap(lambda x: 1 if x > 0 else 0)\n"
     ]
    },
    {
     "data": {
      "text/html": [
       "<div>\n",
       "<style scoped>\n",
       "    .dataframe tbody tr th:only-of-type {\n",
       "        vertical-align: middle;\n",
       "    }\n",
       "\n",
       "    .dataframe tbody tr th {\n",
       "        vertical-align: top;\n",
       "    }\n",
       "\n",
       "    .dataframe thead th {\n",
       "        text-align: right;\n",
       "    }\n",
       "</style>\n",
       "<table border=\"1\" class=\"dataframe\">\n",
       "  <thead>\n",
       "    <tr style=\"text-align: right;\">\n",
       "      <th></th>\n",
       "      <th>Firm_banner</th>\n",
       "      <th>Email_group</th>\n",
       "      <th>Banner_no_click</th>\n",
       "      <th>Banner_click</th>\n",
       "      <th>SEA_product_click</th>\n",
       "      <th>SEA_brand_click</th>\n",
       "      <th>Price_comp_click</th>\n",
       "      <th>Email_no_click</th>\n",
       "      <th>Email_click</th>\n",
       "      <th>Direct_visit</th>\n",
       "      <th>Social_visit</th>\n",
       "      <th>Purchase</th>\n",
       "    </tr>\n",
       "  </thead>\n",
       "  <tbody>\n",
       "    <tr>\n",
       "      <th>0</th>\n",
       "      <td>0</td>\n",
       "      <td>0</td>\n",
       "      <td>0</td>\n",
       "      <td>0</td>\n",
       "      <td>0</td>\n",
       "      <td>0</td>\n",
       "      <td>0</td>\n",
       "      <td>0</td>\n",
       "      <td>0</td>\n",
       "      <td>1</td>\n",
       "      <td>0</td>\n",
       "      <td>15</td>\n",
       "    </tr>\n",
       "    <tr>\n",
       "      <th>1</th>\n",
       "      <td>0</td>\n",
       "      <td>0</td>\n",
       "      <td>0</td>\n",
       "      <td>0</td>\n",
       "      <td>0</td>\n",
       "      <td>0</td>\n",
       "      <td>0</td>\n",
       "      <td>0</td>\n",
       "      <td>0</td>\n",
       "      <td>1</td>\n",
       "      <td>1</td>\n",
       "      <td>106</td>\n",
       "    </tr>\n",
       "    <tr>\n",
       "      <th>2</th>\n",
       "      <td>0</td>\n",
       "      <td>0</td>\n",
       "      <td>0</td>\n",
       "      <td>0</td>\n",
       "      <td>0</td>\n",
       "      <td>0</td>\n",
       "      <td>1</td>\n",
       "      <td>0</td>\n",
       "      <td>0</td>\n",
       "      <td>0</td>\n",
       "      <td>0</td>\n",
       "      <td>2</td>\n",
       "    </tr>\n",
       "    <tr>\n",
       "      <th>3</th>\n",
       "      <td>0</td>\n",
       "      <td>0</td>\n",
       "      <td>0</td>\n",
       "      <td>0</td>\n",
       "      <td>0</td>\n",
       "      <td>0</td>\n",
       "      <td>1</td>\n",
       "      <td>0</td>\n",
       "      <td>0</td>\n",
       "      <td>0</td>\n",
       "      <td>1</td>\n",
       "      <td>23</td>\n",
       "    </tr>\n",
       "    <tr>\n",
       "      <th>4</th>\n",
       "      <td>0</td>\n",
       "      <td>0</td>\n",
       "      <td>0</td>\n",
       "      <td>0</td>\n",
       "      <td>0</td>\n",
       "      <td>0</td>\n",
       "      <td>1</td>\n",
       "      <td>0</td>\n",
       "      <td>0</td>\n",
       "      <td>1</td>\n",
       "      <td>0</td>\n",
       "      <td>6</td>\n",
       "    </tr>\n",
       "  </tbody>\n",
       "</table>\n",
       "</div>"
      ],
      "text/plain": [
       "   Firm_banner  Email_group  Banner_no_click  Banner_click  SEA_product_click  \\\n",
       "0            0            0                0             0                  0   \n",
       "1            0            0                0             0                  0   \n",
       "2            0            0                0             0                  0   \n",
       "3            0            0                0             0                  0   \n",
       "4            0            0                0             0                  0   \n",
       "\n",
       "   SEA_brand_click  Price_comp_click  Email_no_click  Email_click  \\\n",
       "0                0                 0               0            0   \n",
       "1                0                 0               0            0   \n",
       "2                0                 1               0            0   \n",
       "3                0                 1               0            0   \n",
       "4                0                 1               0            0   \n",
       "\n",
       "   Direct_visit  Social_visit  Purchase  \n",
       "0             1             0        15  \n",
       "1             1             1       106  \n",
       "2             0             0         2  \n",
       "3             0             1        23  \n",
       "4             1             0         6  "
      ]
     },
     "execution_count": 6,
     "metadata": {},
     "output_type": "execute_result"
    }
   ],
   "source": [
    "# Identifying the columns representing the marketing channels and the 'Purchase' column\n",
    "marketing_channels = [\n",
    "    \"Firm_banner\", \"Email_group\", \"Banner_no_click\", \"Banner_click\",\n",
    "    \"SEA_product_click\", \"SEA_brand_click\", \"Price_comp_click\", \"Email_no_click\",\n",
    "    \"Email_click\", \"Direct_visit\", \"Social_visit\"\n",
    "]\n",
    "purchase_column = \"Purchase\"\n",
    "\n",
    "# Selecting only the relevant columns\n",
    "selected_data = data[marketing_channels + [purchase_column]]\n",
    "\n",
    "# Converting all inputs in the cells to 0s and 1s (if an input is bigger than 1, change it to 1)\n",
    "selected_data = selected_data.applymap(lambda x: 1 if x > 0 else 0)\n",
    "\n",
    "# Group by the marketing channels and sum the purchases\n",
    "grouped_data = selected_data.groupby(marketing_channels).sum().reset_index()\n",
    "\n",
    "grouped_data.head()\n"
   ]
  },
  {
   "cell_type": "markdown",
   "metadata": {},
   "source": [
    "### Occuurrences of channels in the dataset\n",
    "\n",
    "A checking of the occurrences of the previously mentioned channels is done to check the presence of each one in the dataset, lower values could affect the computation of Shapley and Interaction Values for a channel."
   ]
  },
  {
   "cell_type": "code",
   "execution_count": 7,
   "metadata": {},
   "outputs": [
    {
     "data": {
      "text/plain": [
       "Firm_banner          482\n",
       "Email_group          618\n",
       "Banner_no_click      475\n",
       "Banner_click         323\n",
       "SEA_product_click    397\n",
       "SEA_brand_click      440\n",
       "Price_comp_click     408\n",
       "Email_no_click       293\n",
       "Email_click          242\n",
       "Direct_visit         510\n",
       "Social_visit         484\n",
       "dtype: int64"
      ]
     },
     "execution_count": 7,
     "metadata": {},
     "output_type": "execute_result"
    }
   ],
   "source": [
    "# Compute the occurrence of each channel by counting non-zero values in each column\n",
    "channel_occurrences = (grouped_data.iloc[:, :-1] != 0).sum()\n",
    "\n",
    "channel_occurrences"
   ]
  },
  {
   "cell_type": "markdown",
   "metadata": {},
   "source": [
    "### Shapley Values\n",
    "\n",
    "Next, a dictionary is created having as keys each combination of channels present in the dataset and the sum of purchases of respective coalitions as values."
   ]
  },
  {
   "cell_type": "code",
   "execution_count": 8,
   "metadata": {},
   "outputs": [],
   "source": [
    "# Dictionary to store the total conversions for each combination of channels\n",
    "coalitions_dict = {}\n",
    "\n",
    "for index, row in grouped_data.iterrows():\n",
    "    # Identify the channels in the current coalition\n",
    "    coalition = {channel for channel in marketing_channels if row[channel] == 1}\n",
    "\n",
    "    # The total number of conversions for this coalition\n",
    "    total_conversions = row['Purchase']  # Replace 'Purchase' with your actual column name if different\n",
    "\n",
    "    # Add to the dictionary\n",
    "    coalitions_dict[frozenset(coalition)] = total_conversions\n"
   ]
  },
  {
   "cell_type": "markdown",
   "metadata": {},
   "source": [
    "Now, a function computing Shapley Values for each marketing channel is defined. The output is a dictionary containing each marketing channel and its corresponfing Shapley Value.\n",
    "\n",
    "The formula for the Shaply Values is the following:\n",
    "\n",
    "$\\phi_i(v) = \\sum_{S \\subseteq N \\setminus \\{i\\}} \\frac{|S|!(|N|-|S|-1)!}{|N|!} \\left(v(S \\cup \\{i\\}) - v(S)\\right)$\n",
    "\n",
    "In order to get meaningful values, considering the scarcity of the dataset, only the cases in which both sets $S \\cup \\{i\\}$ and $S$ are present in the dictionary are considered."
   ]
  },
  {
   "cell_type": "code",
   "execution_count": 9,
   "metadata": {},
   "outputs": [],
   "source": [
    "def shapley(coalitions_dict, channel_columns):\n",
    "    # Initialize Shapley values for each channel\n",
    "    shapley_values_dict = {channel: 0 for channel in channel_columns}\n",
    "    n = len(channel_columns)\n",
    "\n",
    "    # Function to check if the coalition is in the coalitions dicttionary\n",
    "    def is_coalition_present(coalition):\n",
    "        return frozenset(coalition) in coalitions_dict\n",
    "\n",
    "    # Function to get the total conversions for a given coalition\n",
    "    def get_total_conversions(coalition):\n",
    "        return coalitions_dict[frozenset(coalition)]\n",
    "\n",
    "    # Iterattion over each channel\n",
    "    for channel in channel_columns:\n",
    "        checked = []\n",
    "        for S in range(1, n):\n",
    "            for subset_tuple in combinations(channel_columns, S):\n",
    "                subset = set(subset_tuple)  # Convert tuple to set to use frozensets for checking in the dictionary\n",
    "                if frozenset(subset) not in checked:\n",
    "                    if channel not in subset:\n",
    "                        checked.append(frozenset(subset))\n",
    "                        subset_with_channel = subset | {channel}  # Use set union to add the channel\n",
    "                        # Skip if either subset or subset with channel is not present in coalitions_dict\n",
    "                        if is_coalition_present(frozenset(subset)) and is_coalition_present(frozenset(subset_with_channel)):\n",
    "                            subset_value = get_total_conversions(frozenset(subset))\n",
    "                            subset_with_channel_value = get_total_conversions(frozenset(subset_with_channel))\n",
    "                            weight = (factorial(S) * factorial(n - S - 1)) / factorial(n)\n",
    "                            marginal_contribution = subset_with_channel_value - subset_value\n",
    "                            shapley_values_dict[channel] += marginal_contribution * weight\n",
    "\n",
    "    return shapley_values_dict\n"
   ]
  },
  {
   "cell_type": "markdown",
   "metadata": {},
   "source": [
    "Now, Shapley Values are computed for each marketing channel."
   ]
  },
  {
   "cell_type": "code",
   "execution_count": 10,
   "metadata": {},
   "outputs": [
    {
     "data": {
      "text/plain": [
       "{'Firm_banner': 9.404292929292936,\n",
       " 'Email_group': -2.072871572871573,\n",
       " 'Banner_no_click': 4.323304473304472,\n",
       " 'Banner_click': -10.299062049062051,\n",
       " 'SEA_product_click': -0.7542207792207807,\n",
       " 'SEA_brand_click': 3.616702741702742,\n",
       " 'Price_comp_click': -0.3228354978354988,\n",
       " 'Email_no_click': 0.5646464646464646,\n",
       " 'Email_click': -2.904112554112554,\n",
       " 'Direct_visit': 5.930050505050503,\n",
       " 'Social_visit': 7.116702741702745}"
      ]
     },
     "execution_count": 10,
     "metadata": {},
     "output_type": "execute_result"
    }
   ],
   "source": [
    "shapley_values = shapley(coalitions_dict, marketing_channels)\n",
    "shapley_values"
   ]
  },
  {
   "cell_type": "markdown",
   "metadata": {},
   "source": [
    "### Interaction Values\n",
    "\n",
    "Using a similar approach, a function computing Interaction Values for each pair of channels is defined. The output is a dictionary containing each pair of marketing channels and its corresponfing Interaction Value.\n",
    "\n",
    "The formula introduced for the Interaction Values is the following:\n",
    "\n",
    "$\\phi_{ij}(v) = \\sum_{S \\subseteq N \\setminus \\{i,j\\}} \\frac{(|S|+1)!(|N|-|S|-2)!}{|N|!} \\left(v(S \\cup \\{i,j\\}) - v(S \\cup \\{i\\})\\right)$\n",
    "\n",
    "Similarly, in order to get meaningful values, considering the scarcity of the dataset, only the cases in which both sets $S \\cup \\{i,j\\}$ and $S \\cup \\{i\\}$ are present in the dictionary are considered."
   ]
  },
  {
   "cell_type": "code",
   "execution_count": 11,
   "metadata": {},
   "outputs": [],
   "source": [
    "def interaction_values(coalitions_dict, channel_columns):\n",
    "\n",
    "    # Initialize Interaction Values for each pair of channels\n",
    "    interaction_values_dict = {(i, j): 0 for i in channel_columns for j in channel_columns if i != j}\n",
    "    n = len(channel_columns)\n",
    "\n",
    "    # Function to check if the coalition is in the coalitions_dict\n",
    "    def is_coalition_present(coalition):\n",
    "        return frozenset(coalition) in coalitions_dict\n",
    "\n",
    "    # Function to get the total conversions for a given coalition\n",
    "    def get_total_conversions(coalition):\n",
    "        return coalitions_dict.get(frozenset(coalition), 0)\n",
    "\n",
    "    # Iterate over each pair of channels\n",
    "    for i in channel_columns:\n",
    "        for j in channel_columns:\n",
    "            if i != j:\n",
    "                checked = []\n",
    "                for S in range(1, n):\n",
    "                    for subset_tuple in combinations(channel_columns, S):\n",
    "                        subset = set(subset_tuple)  # Convert tuple to set to use frozensets for checking in the dictionary\n",
    "                        if frozenset(subset) not in checked:\n",
    "                            checked.append(frozenset(subset))\n",
    "                            if not(i in subset or j in subset):\n",
    "                                subset_with_i = subset | {i}\n",
    "                                subset_with_i_j = subset | {i, j}\n",
    "                                # Skip if the required subsets are not present in coalitions_dict\n",
    "                                if is_coalition_present(subset_with_i) and is_coalition_present(subset_with_i_j):\n",
    "                                    subset_with_i_value = get_total_conversions(subset_with_i)\n",
    "                                    subset_with_i_j_value = get_total_conversions(subset_with_i_j)\n",
    "                                    weight = factorial(S + 1) * factorial(n - S - 2) / factorial(n)\n",
    "                                    marginal_contribution = subset_with_i_j_value - subset_with_i_value\n",
    "                                    interaction_values_dict[(i, j)] += marginal_contribution * weight\n",
    "            \n",
    "\n",
    "    return interaction_values_dict\n"
   ]
  },
  {
   "cell_type": "markdown",
   "metadata": {},
   "source": [
    "Now, Interaction Values are computed for each pair of marketing channel."
   ]
  },
  {
   "cell_type": "code",
   "execution_count": 12,
   "metadata": {},
   "outputs": [],
   "source": [
    "interaction_values = interaction_values(coalitions_dict, marketing_channels)"
   ]
  },
  {
   "cell_type": "markdown",
   "metadata": {},
   "source": [
    "### Interaction Matrix\n",
    "\n",
    "A function constructing the Interaction Matrix is defined using the Shapley (in the diagonal) and Interaction Values (off-diagonal values of the matrix) computed in the previous step.\n",
    "\n",
    "The Interaction Matrix is defined as follows:\n",
    "\n",
    "$$\n",
    "M(v) = \n",
    "\\begin{bmatrix}\n",
    "    \\phi_1(v) & \\phi_{1,2}(v) & \\cdots & \\phi_{1,n}(v) \\\\\n",
    "    \\phi_{2,1}(v) & \\phi_2(v) & \\cdots & \\phi_{2,n}(v) \\\\\n",
    "    \\vdots & \\vdots & \\ddots & \\vdots \\\\\n",
    "    \\phi_{n,1}(v) & \\phi_{n,2}(v) & \\cdots & \\phi_n(v)\n",
    "\\end{bmatrix}\n",
    "$$"
   ]
  },
  {
   "cell_type": "code",
   "execution_count": 13,
   "metadata": {},
   "outputs": [],
   "source": [
    "def interaction_matrix(shapley_values, interaction_values, channel_columns):\n",
    "    n = len(channel_columns)\n",
    "    interaction_matrix = np.zeros((n, n))\n",
    "\n",
    "    # Fill diagonal with individual Shapley values\n",
    "    for i, channel in enumerate(channel_columns):\n",
    "        interaction_matrix[i, i] = shapley_values[channel]\n",
    "\n",
    "    # Fill off-diagonal with pairwise Shapley values\n",
    "    for i, channel_i in enumerate(channel_columns):\n",
    "        for j, channel_j in enumerate(channel_columns):\n",
    "            if i != j:\n",
    "                interaction_matrix[i, j] = interaction_values[channel_i, channel_j]\n",
    "\n",
    "    return interaction_matrix\n"
   ]
  },
  {
   "cell_type": "markdown",
   "metadata": {},
   "source": [
    "Now, we compute the Interaction Matrix."
   ]
  },
  {
   "cell_type": "code",
   "execution_count": 14,
   "metadata": {},
   "outputs": [],
   "source": [
    "interaction_matrix = interaction_matrix(shapley_values, interaction_values, marketing_channels)"
   ]
  },
  {
   "cell_type": "markdown",
   "metadata": {},
   "source": [
    "A heatmap representing the Interaction Matrix is plotted."
   ]
  },
  {
   "cell_type": "code",
   "execution_count": 15,
   "metadata": {},
   "outputs": [
    {
     "data": {
      "image/png": "[encoded data removed]",
      "text/plain": [
       "<Figure size 1000x800 with 2 Axes>"
      ]
     },
     "metadata": {},
     "output_type": "display_data"
    }
   ],
   "source": [
    "# Extract unique channels\n",
    "channels = set()\n",
    "for pair in interaction_values.keys():\n",
    "    channels.update(pair)\n",
    "channels = sorted(list(channels))\n",
    "\n",
    "# Create an empty DataFrame representing the matrix\n",
    "interaction_matrix_df = pd.DataFrame(index=channels, columns=channels, data=0.0)\n",
    "\n",
    "# Populate the DataFrame with values from the dictionary\n",
    "for (channel1, channel2), value in interaction_values.items():\n",
    "    # For asymmetric interactions, populate only one direction\n",
    "    interaction_matrix_df.at[channel1, channel2] = value\n",
    "\n",
    "# Populate diagonal with Shapley values\n",
    "for channel, value in shapley_values.items():\n",
    "    interaction_matrix_df.at[channel, channel] = value\n",
    "\n",
    "plt.figure(figsize=(10, 8))\n",
    "ax = sns.heatmap(interaction_matrix_df.T, cmap='viridis', annot=False)\n",
    "\n",
    "# Annotate non-diagonal elements\n",
    "for i in range(interaction_matrix_df.shape[0]):\n",
    "    for j in range(interaction_matrix_df.shape[1]):\n",
    "        if i != j:\n",
    "            text = ax.text(j + 0.5, i + 0.5, round(interaction_matrix_df.iloc[j, i], 2),\n",
    "                           ha=\"center\", va=\"center\", color=\"w\")\n",
    "\n",
    "# Annotate diagonal elements in red\n",
    "for i in range(interaction_matrix_df.shape[0]):\n",
    "    text = ax.text(i + 0.5, i + 0.5, round(interaction_matrix_df.iloc[i, i], 2),\n",
    "                   ha=\"center\", va=\"center\", color=\"red\")\n",
    "\n",
    "plt.savefig(\"plot.png\")\n",
    "\n",
    "plt.title(\"Interaction Matrix\")\n",
    "plt.show()"
   ]
  },
  {
   "cell_type": "markdown",
   "metadata": {},
   "source": [
    "### Optimisation Task\n",
    "\n",
    "In this section, we set the budget constraint and the cost of each channel, then we set up the Genetic Algorithm with the specifications mentioned in the paper."
   ]
  },
  {
   "cell_type": "code",
   "execution_count": 16,
   "metadata": {},
   "outputs": [],
   "source": [
    "# Define the channel costs and budget\n",
    "channel_costs = {\n",
    "    'Firm_banner': 146, \n",
    "    'Email_group': 84, \n",
    "    'Banner_no_click': 100,\n",
    "    'Banner_click': 98, \n",
    "    'SEA_product_click': 102, \n",
    "    'SEA_brand_click': 90, \n",
    "    'Price_comp_click': 51, \n",
    "    'Email_no_click': 94, \n",
    "    'Email_click': 90, \n",
    "    'Direct_visit': 72, \n",
    "    'Social_visit': 135\n",
    "}\n",
    "\n",
    "budget = 500"
   ]
  },
  {
   "cell_type": "markdown",
   "metadata": {},
   "source": [
    "In the next section, the Genetic Algorithm using only Shapley Values is set up, and the optimal coalition of marketing channels is predicted."
   ]
  },
  {
   "cell_type": "code",
   "execution_count": 17,
   "metadata": {},
   "outputs": [
    {
     "name": "stdout",
     "output_type": "stream",
     "text": [
      "Best Subset of Channels: ['Firm_banner', 'Banner_no_click', 'Direct_visit', 'Social_visit']\n",
      "Best Value: 26.774350649350655\n"
     ]
    }
   ],
   "source": [
    "random.seed(123)\n",
    "\n",
    "# Setup for Genetic Algorithm\n",
    "creator.create(\"FitnessMax\", base.Fitness, weights=(1.0,))\n",
    "creator.create(\"Individual\", list, fitness=creator.FitnessMax)\n",
    "\n",
    "toolbox = base.Toolbox()\n",
    "toolbox.register(\"attr_bool\", random.randint, 0, 1)\n",
    "toolbox.register(\"individual\", tools.initRepeat, creator.Individual, toolbox.attr_bool, n=len(marketing_channels))\n",
    "toolbox.register(\"population\", tools.initRepeat, list, toolbox.individual)\n",
    "\n",
    "# Fitness function\n",
    "def eval(individual):\n",
    "    # Sum of Shapley Values for each channel in the individual\n",
    "    total_value = sum(interaction_matrix[i, i] * individual[i] for i in range(len(marketing_channels)))\n",
    "    \n",
    "    # Calculate total cost\n",
    "    total_cost = sum(channel_costs[marketing_channels[i]] * individual[i] for i in range(len(marketing_channels)))\n",
    "\n",
    "    # Check if the total cost is within the budget\n",
    "    if total_cost > budget:\n",
    "        return -1,  # Penalty for exceeding budget\n",
    "\n",
    "    return total_value,\n",
    "\n",
    "# Genetic operators\n",
    "toolbox.register(\"evaluate\", eval)\n",
    "toolbox.register(\"mate\", tools.cxTwoPoint)\n",
    "toolbox.register(\"mutate\", tools.mutFlipBit, indpb=0.05)\n",
    "toolbox.register(\"select\", tools.selTournament, tournsize=3)\n",
    "\n",
    "# Creating the population\n",
    "population = toolbox.population(n=100)\n",
    "\n",
    "# Running the genetic algorithm\n",
    "ngen = 50\n",
    "result = algorithms.eaSimple(population, toolbox, cxpb=0.7, mutpb=0.2, ngen=ngen, verbose=False)\n",
    "\n",
    "# Extracting the best solution\n",
    "best_ind = tools.selBest(population, k=1)[0]\n",
    "best_channels = [marketing_channels[i] for i in range(len(best_ind)) if best_ind[i] == 1]\n",
    "best_value = eval(best_ind)[0]\n",
    "\n",
    "print(\"Best Subset of Channels:\", best_channels)\n",
    "print(\"Best Value:\", best_value)"
   ]
  },
  {
   "cell_type": "markdown",
   "metadata": {},
   "source": [
    "Next, the Genetic Algorithm using both Shapley and Interaction Values is set up, and the optimal coalition of marketing channels is predicted."
   ]
  },
  {
   "cell_type": "code",
   "execution_count": 18,
   "metadata": {},
   "outputs": [
    {
     "name": "stdout",
     "output_type": "stream",
     "text": [
      "Best Subset of Channels: ['Firm_banner', 'SEA_brand_click', 'Price_comp_click', 'Direct_visit', 'Social_visit']\n",
      "Best Value: 47.88991341991341\n"
     ]
    },
    {
     "name": "stderr",
     "output_type": "stream",
     "text": [
      "/Users/chakir/Library/Python/3.9/lib/python/site-packages/deap/creator.py:185: RuntimeWarning: A class named 'FitnessMax' has already been created and it will be overwritten. Consider deleting previous creation of that class or rename it.\n",
      "  warnings.warn(\"A class named '{0}' has already been created and it \"\n",
      "/Users/chakir/Library/Python/3.9/lib/python/site-packages/deap/creator.py:185: RuntimeWarning: A class named 'Individual' has already been created and it will be overwritten. Consider deleting previous creation of that class or rename it.\n",
      "  warnings.warn(\"A class named '{0}' has already been created and it \"\n"
     ]
    }
   ],
   "source": [
    "random.seed(123)\n",
    "\n",
    "# Setup for Genetic Algorithm\n",
    "creator.create(\"FitnessMax\", base.Fitness, weights=(1.0,))\n",
    "creator.create(\"Individual\", list, fitness=creator.FitnessMax)\n",
    "\n",
    "toolbox = base.Toolbox()\n",
    "toolbox.register(\"attr_bool\", random.randint, 0, 1)\n",
    "toolbox.register(\"individual\", tools.initRepeat, creator.Individual, toolbox.attr_bool, n=len(marketing_channels))\n",
    "toolbox.register(\"population\", tools.initRepeat, list, toolbox.individual)\n",
    "\n",
    "# Fitness function\n",
    "def eval(individual):\n",
    "    # Sum of Shapley Values for each channel in the individual\n",
    "    diagonal_sum = sum(interaction_matrix[i, i] * individual[i] for i in range(len(marketing_channels)))\n",
    "\n",
    "    # Sum of Interaction Values for all pairs of channels in the individual\n",
    "    interaction_sum = sum(interaction_matrix[i, j] * individual[i] * individual[j] for i in range(len(marketing_channels)) for j in range(len(marketing_channels)) if i != j)\n",
    "\n",
    "    # Total value is the sum of diagonal values and interaction values\n",
    "    total_value = diagonal_sum + 0.3 * interaction_sum\n",
    "\n",
    "    # Calculate total cost\n",
    "    total_cost = sum(channel_costs[marketing_channels[i]] * individual[i] for i in range(len(marketing_channels)))\n",
    "\n",
    "    # Check if the total cost is within the budget\n",
    "    if total_cost > budget:\n",
    "        return -1,  # Penalty for exceeding budget\n",
    "\n",
    "    return total_value,\n",
    "\n",
    "\n",
    "# Genetic operators\n",
    "toolbox.register(\"evaluate\", eval)\n",
    "toolbox.register(\"mate\", tools.cxTwoPoint)\n",
    "toolbox.register(\"mutate\", tools.mutFlipBit, indpb=0.05)\n",
    "toolbox.register(\"select\", tools.selTournament, tournsize=3)\n",
    "\n",
    "# Creating the population\n",
    "population = toolbox.population(n=100)\n",
    "\n",
    "# Running the genetic algorithm\n",
    "ngen = 50\n",
    "result = algorithms.eaSimple(population, toolbox, cxpb=0.7, mutpb=0.2, ngen=ngen, verbose=False)\n",
    "\n",
    "# Extracting the best solution\n",
    "best_ind = tools.selBest(population, k=1)[0]\n",
    "best_channels = [marketing_channels[i] for i in range(len(best_ind)) if best_ind[i] == 1]\n",
    "best_value = eval(best_ind)[0]\n",
    "\n",
    "print(\"Best Subset of Channels:\", best_channels)\n",
    "print(\"Best Value:\", best_value)\n"
   ]
  },
  {
   "cell_type": "markdown",
   "metadata": {},
   "source": [
    "Last, a function calculating the total number of conversions for a specific coalition of channels is created. This function is used to get the number of conversions from each of the two outputs for comparative purposes."
   ]
  },
  {
   "cell_type": "code",
   "execution_count": 19,
   "metadata": {},
   "outputs": [],
   "source": [
    "def conversions(df, coalition):\n",
    "    checked = []\n",
    "    purchases = 0\n",
    "    for S in range(1, len(coalition)):\n",
    "        for subset in combinations(coalition, S):\n",
    "            subset = frozenset(subset)\n",
    "            if subset not in checked:\n",
    "                checked.append(subset)\n",
    "                if subset in df:\n",
    "                    purchases += df[subset]\n",
    "    return purchases"
   ]
  },
  {
   "cell_type": "code",
   "execution_count": 20,
   "metadata": {},
   "outputs": [
    {
     "data": {
      "text/plain": [
       "688"
      ]
     },
     "execution_count": 20,
     "metadata": {},
     "output_type": "execute_result"
    }
   ],
   "source": [
    "conversions(coalitions_dict, ['Firm_banner', 'Banner_no_click', 'Direct_visit', 'Social_visit'])"
   ]
  },
  {
   "cell_type": "code",
   "execution_count": 21,
   "metadata": {},
   "outputs": [
    {
     "data": {
      "text/plain": [
       "1002"
      ]
     },
     "execution_count": 21,
     "metadata": {},
     "output_type": "execute_result"
    }
   ],
   "source": [
    "conversions(coalitions_dict, ['Firm_banner', 'SEA_brand_click', 'Price_comp_click', 'Direct_visit', 'Social_visit'])"
   ]
  }
 ],
 "metadata": {
  "kernelspec": {
   "display_name": "Python 3",
   "language": "python",
   "name": "python3"
  },
  "language_info": {
   "codemirror_mode": {
    "name": "ipython",
    "version": 3
   },
   "file_extension": ".py",
   "mimetype": "text/x-python",
   "name": "python",
   "nbconvert_exporter": "python",
   "pygments_lexer": "ipython3",
   "version": "3.9.6"
  }
 },
 "nbformat": 4,
 "nbformat_minor": 2
}
